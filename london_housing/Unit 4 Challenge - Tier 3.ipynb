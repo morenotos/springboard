{
 "cells": [
  {
   "cell_type": "markdown",
   "metadata": {
    "colab_type": "text",
    "id": "Tia3MP1SJpgj"
   },
   "source": [
    "# Springboard Data Science Career Track Unit 4 Challenge - Tier 3 Complete\n",
    "\n",
    "## Objectives\n",
    "Hey! Great job getting through those challenging DataCamp courses. You're learning a lot in a short span of time. \n",
    "\n",
    "In this notebook, you're going to apply the skills you've been learning, bridging the gap between the controlled environment of DataCamp and the *slightly* messier work that data scientists do with actual datasets!\n",
    "\n",
    "Here’s the mystery we’re going to solve: ***which boroughs of London have seen the greatest increase in housing prices, on average, over the last two decades?***\n",
    "\n",
    "\n",
    "A borough is just a fancy word for district. You may be familiar with the five boroughs of New York… well, there are 32 boroughs within Greater London [(here's some info for the curious)](https://en.wikipedia.org/wiki/London_boroughs). Some of them are more desirable areas to live in, and the data will reflect that with a greater rise in housing prices.\n",
    "\n",
    "***This is the Tier 3 notebook, which means it's not filled in at all: we'll just give you the skeleton of a project, the brief and the data. It's up to you to play around with it and see what you can find out! Good luck! If you struggle, feel free to look at easier tiers for help; but try to dip in and out of them, as the more independent work you do, the better it is for your learning!***\n",
    "\n",
    "This challenge will make use of only what you learned in the following DataCamp courses: \n",
    "- Prework courses (Introduction to Python for Data Science, Intermediate Python for Data Science)\n",
    "- Data Types for Data Science\n",
    "- Python Data Science Toolbox (Part One) \n",
    "- pandas Foundations\n",
    "- Manipulating DataFrames with pandas\n",
    "- Merging DataFrames with pandas\n",
    "\n",
    "Of the tools, techniques and concepts in the above DataCamp courses, this challenge should require the application of the following: \n",
    "- **pandas**\n",
    "    - **data ingestion and inspection** (pandas Foundations, Module One) \n",
    "    - **exploratory data analysis** (pandas Foundations, Module Two)\n",
    "    - **tidying and cleaning** (Manipulating DataFrames with pandas, Module Three) \n",
    "    - **transforming DataFrames** (Manipulating DataFrames with pandas, Module One)\n",
    "    - **subsetting DataFrames with lists** (Manipulating DataFrames with pandas, Module One) \n",
    "    - **filtering DataFrames** (Manipulating DataFrames with pandas, Module One) \n",
    "    - **grouping data** (Manipulating DataFrames with pandas, Module Four) \n",
    "    - **melting data** (Manipulating DataFrames with pandas, Module Three) \n",
    "    - **advanced indexing** (Manipulating DataFrames with pandas, Module Four) \n",
    "- **matplotlib** (Intermediate Python for Data Science, Module One)\n",
    "- **fundamental data types** (Data Types for Data Science, Module One) \n",
    "- **dictionaries** (Intermediate Python for Data Science, Module Two)\n",
    "- **handling dates and times** (Data Types for Data Science, Module Four)\n",
    "- **function definition** (Python Data Science Toolbox - Part One, Module One)\n",
    "- **default arguments, variable length, and scope** (Python Data Science Toolbox - Part One, Module Two) \n",
    "- **lambda functions and error handling** (Python Data Science Toolbox - Part One, Module Four) "
   ]
  },
  {
   "cell_type": "markdown",
   "metadata": {
    "colab_type": "text",
    "id": "Ipgd2nV8Jpgl"
   },
   "source": [
    "## The Data Science Pipeline\n",
    "\n",
    "This is Tier Three, so we'll get you started. But after that, it's all in your hands! When you feel done with your investigations, look back over what you've accomplished, and prepare a quick presentation of your findings for the next mentor meeting. \n",
    "\n",
    "Data Science is magical. In this case study, you'll get to apply some complex machine learning algorithms. But as  [David Spiegelhalter](https://www.youtube.com/watch?v=oUs1uvsz0Ok) reminds us, there is no substitute for simply **taking a really, really good look at the data.** Sometimes, this is all we need to answer our question.\n",
    "\n",
    "Data Science projects generally adhere to the four stages of Data Science Pipeline:\n",
    "1. Sourcing and loading \n",
    "2. Cleaning, transforming, and visualizing \n",
    "3. Modeling \n",
    "4. Evaluating and concluding \n"
   ]
  },
  {
   "cell_type": "markdown",
   "metadata": {
    "colab_type": "text",
    "id": "zswDqbefJpgm"
   },
   "source": [
    "### 1. Sourcing and Loading \n",
    "\n",
    "Any Data Science project kicks off by importing  ***pandas***. The documentation of this wonderful library can be found [here](https://pandas.pydata.org/). As you've seen, pandas is conveniently connected to the [Numpy](http://www.numpy.org/) and [Matplotlib](https://matplotlib.org/) libraries. \n",
    "\n",
    "***Hint:*** This part of the data science pipeline will test those skills you acquired in the pandas Foundations course, Module One. "
   ]
  },
  {
   "cell_type": "markdown",
   "metadata": {
    "colab_type": "text",
    "id": "aEau5nEvJpgm"
   },
   "source": [
    "#### 1.1. Importing Libraries"
   ]
  },
  {
   "cell_type": "code",
   "execution_count": 3,
   "metadata": {
    "colab": {},
    "colab_type": "code",
    "id": "7Bt_Q_oPJpgn"
   },
   "outputs": [],
   "source": [
    "# Let's import the pandas, numpy libraries as pd, and np respectively. \n",
    "import pandas as pd\n",
    "import numpy as np\n",
    "\n",
    "# Load the pyplot collection of functions from matplotlib, as plt \n",
    "import matplotlib.pyplot as plt"
   ]
  },
  {
   "cell_type": "markdown",
   "metadata": {
    "colab_type": "text",
    "id": "koUrawxsJpgq"
   },
   "source": [
    "#### 1.2.  Loading the data\n",
    "Your data comes from the [London Datastore](https://data.london.gov.uk/): a free, open-source data-sharing portal for London-oriented datasets. "
   ]
  },
  {
   "cell_type": "code",
   "execution_count": 4,
   "metadata": {
    "colab": {},
    "colab_type": "code",
    "id": "AiLiD4v3Jpgr"
   },
   "outputs": [],
   "source": [
    "# First, make a variable called url_LondonHousePrices, and assign it the following link, enclosed in quotation-marks as a string:\n",
    "# https://data.london.gov.uk/download/uk-house-price-index/70ac0766-8902-4eb5-aab5-01951aaed773/UK%20House%20price%20index.xls\n",
    "\n",
    "url_LondonHousePrices = \"https://data.london.gov.uk/download/uk-house-price-index/70ac0766-8902-4eb5-aab5-01951aaed773/UK%20House%20price%20index.xls\"\n",
    "\n",
    "# The dataset we're interested in contains the Average prices of the houses, and is actually on a particular sheet of the Excel file. \n",
    "# As a result, we need to specify the sheet name in the read_excel() method.\n",
    "# Put this data into a variable called properties.  \n",
    "properties = pd.read_excel(url_LondonHousePrices, sheet_name='Average price', index_col= None)"
   ]
  },
  {
   "cell_type": "markdown",
   "metadata": {
    "colab_type": "text",
    "id": "POukEJXgJpgu"
   },
   "source": [
    "### 2. Cleaning, transforming, and visualizing\n",
    "This second stage is arguably the most important part of any Data Science project. The first thing to do is take a proper look at the data. Cleaning forms the majority of this stage, and can be done both before or after Transformation.\n",
    "\n",
    "The end goal of data cleaning is to have tidy data. When data is tidy: \n",
    "\n",
    "1. Each variable has a column.\n",
    "2. Each observation forms a row.\n",
    "\n",
    "Keep the end goal in mind as you move through this process, every step will take you closer. \n",
    "\n",
    "\n",
    "\n",
    "***Hint:*** This part of the data science pipeline should test those skills you acquired in: \n",
    "- Intermediate Python for data science, all modules.\n",
    "- pandas Foundations, all modules. \n",
    "- Manipulating DataFrames with pandas, all modules.\n",
    "- Data Types for Data Science, Module Four.\n",
    "- Python Data Science Toolbox - Part One, all modules"
   ]
  },
  {
   "cell_type": "markdown",
   "metadata": {
    "colab_type": "text",
    "id": "Te0Q548tnzZa"
   },
   "source": [
    "**2.1. Exploring your data** \n",
    "\n",
    "Think about your pandas functions for checking out a dataframe. "
   ]
  },
  {
   "cell_type": "code",
   "execution_count": 5,
   "metadata": {
    "colab": {},
    "colab_type": "code",
    "id": "Rxirxw_qoAJa"
   },
   "outputs": [
    {
     "name": "stdout",
     "output_type": "stream",
     "text": [
      "Index(['Unnamed: 0', 'City of London', 'Barking & Dagenham', 'Barnet',\n",
      "       'Bexley', 'Brent', 'Bromley', 'Camden', 'Croydon', 'Ealing', 'Enfield',\n",
      "       'Greenwich', 'Hackney', 'Hammersmith & Fulham', 'Haringey', 'Harrow',\n",
      "       'Havering', 'Hillingdon', 'Hounslow', 'Islington',\n",
      "       'Kensington & Chelsea', 'Kingston upon Thames', 'Lambeth', 'Lewisham',\n",
      "       'Merton', 'Newham', 'Redbridge', 'Richmond upon Thames', 'Southwark',\n",
      "       'Sutton', 'Tower Hamlets', 'Waltham Forest', 'Wandsworth',\n",
      "       'Westminster', 'Unnamed: 34', 'Inner London', 'Outer London',\n",
      "       'Unnamed: 37', 'NORTH EAST', 'NORTH WEST', 'YORKS & THE HUMBER',\n",
      "       'EAST MIDLANDS', 'WEST MIDLANDS', 'EAST OF ENGLAND', 'LONDON',\n",
      "       'SOUTH EAST', 'SOUTH WEST', 'Unnamed: 47', 'England'],\n",
      "      dtype='object')\n",
      "RangeIndex(start=0, stop=306, step=1)\n",
      "(306, 49)\n",
      "<class 'pandas.core.frame.DataFrame'>\n",
      "RangeIndex: 306 entries, 0 to 305\n",
      "Data columns (total 49 columns):\n",
      " #   Column                Non-Null Count  Dtype         \n",
      "---  ------                --------------  -----         \n",
      " 0   Unnamed: 0            305 non-null    datetime64[ns]\n",
      " 1   City of London        306 non-null    object        \n",
      " 2   Barking & Dagenham    306 non-null    object        \n",
      " 3   Barnet                306 non-null    object        \n",
      " 4   Bexley                306 non-null    object        \n",
      " 5   Brent                 306 non-null    object        \n",
      " 6   Bromley               306 non-null    object        \n",
      " 7   Camden                306 non-null    object        \n",
      " 8   Croydon               306 non-null    object        \n",
      " 9   Ealing                306 non-null    object        \n",
      " 10  Enfield               306 non-null    object        \n",
      " 11  Greenwich             306 non-null    object        \n",
      " 12  Hackney               306 non-null    object        \n",
      " 13  Hammersmith & Fulham  306 non-null    object        \n",
      " 14  Haringey              306 non-null    object        \n",
      " 15  Harrow                306 non-null    object        \n",
      " 16  Havering              306 non-null    object        \n",
      " 17  Hillingdon            306 non-null    object        \n",
      " 18  Hounslow              306 non-null    object        \n",
      " 19  Islington             306 non-null    object        \n",
      " 20  Kensington & Chelsea  306 non-null    object        \n",
      " 21  Kingston upon Thames  306 non-null    object        \n",
      " 22  Lambeth               306 non-null    object        \n",
      " 23  Lewisham              306 non-null    object        \n",
      " 24  Merton                306 non-null    object        \n",
      " 25  Newham                306 non-null    object        \n",
      " 26  Redbridge             306 non-null    object        \n",
      " 27  Richmond upon Thames  306 non-null    object        \n",
      " 28  Southwark             306 non-null    object        \n",
      " 29  Sutton                306 non-null    object        \n",
      " 30  Tower Hamlets         306 non-null    object        \n",
      " 31  Waltham Forest        306 non-null    object        \n",
      " 32  Wandsworth            306 non-null    object        \n",
      " 33  Westminster           306 non-null    object        \n",
      " 34  Unnamed: 34           0 non-null      float64       \n",
      " 35  Inner London          306 non-null    object        \n",
      " 36  Outer London          306 non-null    object        \n",
      " 37  Unnamed: 37           0 non-null      float64       \n",
      " 38  NORTH EAST            306 non-null    object        \n",
      " 39  NORTH WEST            306 non-null    object        \n",
      " 40  YORKS & THE HUMBER    306 non-null    object        \n",
      " 41  EAST MIDLANDS         306 non-null    object        \n",
      " 42  WEST MIDLANDS         306 non-null    object        \n",
      " 43  EAST OF ENGLAND       306 non-null    object        \n",
      " 44  LONDON                306 non-null    object        \n",
      " 45  SOUTH EAST            306 non-null    object        \n",
      " 46  SOUTH WEST            306 non-null    object        \n",
      " 47  Unnamed: 47           0 non-null      float64       \n",
      " 48  England               306 non-null    object        \n",
      "dtypes: datetime64[ns](1), float64(3), object(45)\n",
      "memory usage: 117.3+ KB\n",
      "None\n",
      "  Unnamed: 0 City of London Barking & Dagenham     Barnet     Bexley  \\\n",
      "0        NaT      E09000001          E09000002  E09000003  E09000004   \n",
      "1 1995-01-01          91449            50460.2    93284.5    64958.1   \n",
      "2 1995-02-01        82202.8            51085.8    93190.2    64787.9   \n",
      "3 1995-03-01        79120.7              51269    92247.5    64367.5   \n",
      "4 1995-04-01        77101.2            53133.5    90762.9    64277.7   \n",
      "\n",
      "       Brent    Bromley     Camden    Croydon     Ealing  ... NORTH WEST  \\\n",
      "0  E09000005  E09000006  E09000007  E09000008  E09000009  ...  E12000002   \n",
      "1    71306.6    81671.5     120933    69158.2    79885.9  ...    43958.5   \n",
      "2    72022.3    81657.6     119509    68951.1    80897.1  ...    43925.4   \n",
      "3    72015.8    81449.3     120282    68712.4    81379.9  ...    44434.9   \n",
      "4    72965.6    81124.4     120098      68610    82188.9  ...    44267.8   \n",
      "\n",
      "  YORKS & THE HUMBER EAST MIDLANDS WEST MIDLANDS EAST OF ENGLAND     LONDON  \\\n",
      "0          E12000003     E12000004     E12000005       E12000006  E12000007   \n",
      "1            44803.4       45544.5       48527.5         56701.6    74435.8   \n",
      "2            44528.8       46051.6       49341.3         56593.6    72777.9   \n",
      "3            45200.5       45383.8       49442.2         56171.2    73896.8   \n",
      "4            45614.3       46124.2       49455.9         56567.9    74455.3   \n",
      "\n",
      "  SOUTH EAST SOUTH WEST Unnamed: 47    England  \n",
      "0  E12000008  E12000009         NaN  E92000001  \n",
      "1    64018.9    54705.2         NaN    53202.8  \n",
      "2      63715    54356.1         NaN    53096.2  \n",
      "3    64113.6    53583.1         NaN    53201.3  \n",
      "4    64623.2      54786         NaN    53590.9  \n",
      "\n",
      "[5 rows x 49 columns]\n",
      "    Unnamed: 0 City of London Barking & Dagenham  Barnet  Bexley   Brent  \\\n",
      "301 2020-01-01         747611             303653  518542  334765  423161   \n",
      "302 2020-02-01         777640             304265  519121  337760  467145   \n",
      "303 2020-03-01         844989             304099  527747  339215  461398   \n",
      "304 2020-04-01         867841             283139  526553  346840  494455   \n",
      "305 2020-05-01         899831             295744  532503  339408  466574   \n",
      "\n",
      "    Bromley  Camden Croydon  Ealing  ... NORTH WEST YORKS & THE HUMBER  \\\n",
      "301  435532  815512  371227  466491  ...     165094             164752   \n",
      "302  435704  825249  371357  465614  ...     166291             164949   \n",
      "303  434625  870107  370872  478565  ...     168161             165685   \n",
      "304  443482  870627  386738  502107  ...     167809             165561   \n",
      "305  420036  862209  369791  490596  ...     168261             170198   \n",
      "\n",
      "    EAST MIDLANDS WEST MIDLANDS EAST OF ENGLAND  LONDON SOUTH EAST SOUTH WEST  \\\n",
      "301        196199        202085          290335  478489     323422     257822   \n",
      "302        194214        200196          290309  479628     319827     257101   \n",
      "303        198284        201369          291356  488185     326701     262444   \n",
      "304        200513        202093          295640  480425     327413     255891   \n",
      "305        197505        203658          290621  479018     324659     261006   \n",
      "\n",
      "    Unnamed: 47 England  \n",
      "301         NaN  248950  \n",
      "302         NaN  248232  \n",
      "303         NaN  251539  \n",
      "304         NaN  250874  \n",
      "305         NaN  251973  \n",
      "\n",
      "[5 rows x 49 columns]\n",
      "Unnamed: 0                    NaT\n",
      "City of London          E09000001\n",
      "Barking & Dagenham      E09000002\n",
      "Barnet                  E09000003\n",
      "Bexley                  E09000004\n",
      "Brent                   E09000005\n",
      "Bromley                 E09000006\n",
      "Camden                  E09000007\n",
      "Croydon                 E09000008\n",
      "Ealing                  E09000009\n",
      "Enfield                 E09000010\n",
      "Greenwich               E09000011\n",
      "Hackney                 E09000012\n",
      "Hammersmith & Fulham    E09000013\n",
      "Haringey                E09000014\n",
      "Harrow                  E09000015\n",
      "Havering                E09000016\n",
      "Hillingdon              E09000017\n",
      "Hounslow                E09000018\n",
      "Islington               E09000019\n",
      "Kensington & Chelsea    E09000020\n",
      "Kingston upon Thames    E09000021\n",
      "Lambeth                 E09000022\n",
      "Lewisham                E09000023\n",
      "Merton                  E09000024\n",
      "Newham                  E09000025\n",
      "Redbridge               E09000026\n",
      "Richmond upon Thames    E09000027\n",
      "Southwark               E09000028\n",
      "Sutton                  E09000029\n",
      "Tower Hamlets           E09000030\n",
      "Waltham Forest          E09000031\n",
      "Wandsworth              E09000032\n",
      "Westminster             E09000033\n",
      "Unnamed: 34                   NaN\n",
      "Inner London            E13000001\n",
      "Outer London            E13000002\n",
      "Unnamed: 37                   NaN\n",
      "NORTH EAST              E12000001\n",
      "NORTH WEST              E12000002\n",
      "YORKS & THE HUMBER      E12000003\n",
      "EAST MIDLANDS           E12000004\n",
      "WEST MIDLANDS           E12000005\n",
      "EAST OF ENGLAND         E12000006\n",
      "LONDON                  E12000007\n",
      "SOUTH EAST              E12000008\n",
      "SOUTH WEST              E12000009\n",
      "Unnamed: 47                   NaN\n",
      "England                 E92000001\n",
      "Name: 0, dtype: object\n"
     ]
    }
   ],
   "source": [
    "print(properties.columns)\n",
    "print(properties.index)\n",
    "print(properties.shape)\n",
    "print(properties.info())\n",
    "print(properties.head())\n",
    "print(properties.tail())\n",
    "print(properties.loc[0,:])"
   ]
  },
  {
   "cell_type": "markdown",
   "metadata": {
    "colab_type": "text",
    "id": "tE9Sqt9-oAta"
   },
   "source": [
    "**2.2. Cleaning the data**\n",
    "\n",
    "You might find you need to transpose your dataframe, check out what its row indexes are, and reset the index. You  also might find you need to assign the values of the first row to your column headings  . (Hint: recall the .columns feature of DataFrames, as well as the iloc[] method).\n",
    "\n",
    "Don't be afraid to use StackOverflow for help  with this."
   ]
  },
  {
   "cell_type": "code",
   "execution_count": 6,
   "metadata": {
    "colab": {},
    "colab_type": "code",
    "id": "cdAu1A3YoH_r"
   },
   "outputs": [
    {
     "name": "stdout",
     "output_type": "stream",
     "text": [
      "Index(['Unnamed: 0', 'City of London', 'Barking & Dagenham', 'Barnet',\n",
      "       'Bexley', 'Brent', 'Bromley', 'Camden', 'Croydon', 'Ealing', 'Enfield',\n",
      "       'Greenwich', 'Hackney', 'Hammersmith & Fulham', 'Haringey', 'Harrow',\n",
      "       'Havering', 'Hillingdon', 'Hounslow', 'Islington',\n",
      "       'Kensington & Chelsea', 'Kingston upon Thames', 'Lambeth', 'Lewisham',\n",
      "       'Merton', 'Newham', 'Redbridge', 'Richmond upon Thames', 'Southwark',\n",
      "       'Sutton', 'Tower Hamlets', 'Waltham Forest', 'Wandsworth',\n",
      "       'Westminster'],\n",
      "      dtype='object')\n"
     ]
    },
    {
     "data": {
      "text/html": [
       "<div>\n",
       "<style scoped>\n",
       "    .dataframe tbody tr th:only-of-type {\n",
       "        vertical-align: middle;\n",
       "    }\n",
       "\n",
       "    .dataframe tbody tr th {\n",
       "        vertical-align: top;\n",
       "    }\n",
       "\n",
       "    .dataframe thead th {\n",
       "        text-align: right;\n",
       "    }\n",
       "</style>\n",
       "<table border=\"1\" class=\"dataframe\">\n",
       "  <thead>\n",
       "    <tr style=\"text-align: right;\">\n",
       "      <th></th>\n",
       "      <th>City of London</th>\n",
       "      <th>Barking &amp; Dagenham</th>\n",
       "      <th>Barnet</th>\n",
       "      <th>Bexley</th>\n",
       "      <th>Brent</th>\n",
       "      <th>Bromley</th>\n",
       "      <th>Camden</th>\n",
       "      <th>Croydon</th>\n",
       "      <th>Ealing</th>\n",
       "      <th>Enfield</th>\n",
       "      <th>...</th>\n",
       "      <th>Merton</th>\n",
       "      <th>Newham</th>\n",
       "      <th>Redbridge</th>\n",
       "      <th>Richmond upon Thames</th>\n",
       "      <th>Southwark</th>\n",
       "      <th>Sutton</th>\n",
       "      <th>Tower Hamlets</th>\n",
       "      <th>Waltham Forest</th>\n",
       "      <th>Wandsworth</th>\n",
       "      <th>Westminster</th>\n",
       "    </tr>\n",
       "    <tr>\n",
       "      <th>date</th>\n",
       "      <th></th>\n",
       "      <th></th>\n",
       "      <th></th>\n",
       "      <th></th>\n",
       "      <th></th>\n",
       "      <th></th>\n",
       "      <th></th>\n",
       "      <th></th>\n",
       "      <th></th>\n",
       "      <th></th>\n",
       "      <th></th>\n",
       "      <th></th>\n",
       "      <th></th>\n",
       "      <th></th>\n",
       "      <th></th>\n",
       "      <th></th>\n",
       "      <th></th>\n",
       "      <th></th>\n",
       "      <th></th>\n",
       "      <th></th>\n",
       "      <th></th>\n",
       "    </tr>\n",
       "  </thead>\n",
       "  <tbody>\n",
       "    <tr>\n",
       "      <th>1995-01-01</th>\n",
       "      <td>91449</td>\n",
       "      <td>50460.2</td>\n",
       "      <td>93284.5</td>\n",
       "      <td>64958.1</td>\n",
       "      <td>71306.6</td>\n",
       "      <td>81671.5</td>\n",
       "      <td>120933</td>\n",
       "      <td>69158.2</td>\n",
       "      <td>79885.9</td>\n",
       "      <td>72514.7</td>\n",
       "      <td>...</td>\n",
       "      <td>82070.6</td>\n",
       "      <td>53539.3</td>\n",
       "      <td>72189.6</td>\n",
       "      <td>109326</td>\n",
       "      <td>67885.2</td>\n",
       "      <td>71537</td>\n",
       "      <td>59865.2</td>\n",
       "      <td>61319.4</td>\n",
       "      <td>88559</td>\n",
       "      <td>133025</td>\n",
       "    </tr>\n",
       "    <tr>\n",
       "      <th>1995-02-01</th>\n",
       "      <td>82202.8</td>\n",
       "      <td>51085.8</td>\n",
       "      <td>93190.2</td>\n",
       "      <td>64787.9</td>\n",
       "      <td>72022.3</td>\n",
       "      <td>81657.6</td>\n",
       "      <td>119509</td>\n",
       "      <td>68951.1</td>\n",
       "      <td>80897.1</td>\n",
       "      <td>73155.2</td>\n",
       "      <td>...</td>\n",
       "      <td>79982.7</td>\n",
       "      <td>53153.9</td>\n",
       "      <td>72141.6</td>\n",
       "      <td>111103</td>\n",
       "      <td>64799.1</td>\n",
       "      <td>70893.2</td>\n",
       "      <td>62318.5</td>\n",
       "      <td>60252.1</td>\n",
       "      <td>88641</td>\n",
       "      <td>131468</td>\n",
       "    </tr>\n",
       "    <tr>\n",
       "      <th>1995-03-01</th>\n",
       "      <td>79120.7</td>\n",
       "      <td>51269</td>\n",
       "      <td>92247.5</td>\n",
       "      <td>64367.5</td>\n",
       "      <td>72015.8</td>\n",
       "      <td>81449.3</td>\n",
       "      <td>120282</td>\n",
       "      <td>68712.4</td>\n",
       "      <td>81379.9</td>\n",
       "      <td>72190.4</td>\n",
       "      <td>...</td>\n",
       "      <td>80661.7</td>\n",
       "      <td>53458.3</td>\n",
       "      <td>72501.4</td>\n",
       "      <td>107325</td>\n",
       "      <td>65763.3</td>\n",
       "      <td>70306.8</td>\n",
       "      <td>63938.7</td>\n",
       "      <td>60871.1</td>\n",
       "      <td>87124.8</td>\n",
       "      <td>132260</td>\n",
       "    </tr>\n",
       "    <tr>\n",
       "      <th>1995-04-01</th>\n",
       "      <td>77101.2</td>\n",
       "      <td>53133.5</td>\n",
       "      <td>90762.9</td>\n",
       "      <td>64277.7</td>\n",
       "      <td>72965.6</td>\n",
       "      <td>81124.4</td>\n",
       "      <td>120098</td>\n",
       "      <td>68610</td>\n",
       "      <td>82188.9</td>\n",
       "      <td>71442.9</td>\n",
       "      <td>...</td>\n",
       "      <td>79990.5</td>\n",
       "      <td>54479.8</td>\n",
       "      <td>72228.6</td>\n",
       "      <td>106875</td>\n",
       "      <td>63073.6</td>\n",
       "      <td>69411.9</td>\n",
       "      <td>66233.2</td>\n",
       "      <td>60971.4</td>\n",
       "      <td>87026</td>\n",
       "      <td>133370</td>\n",
       "    </tr>\n",
       "    <tr>\n",
       "      <th>1995-05-01</th>\n",
       "      <td>84409.1</td>\n",
       "      <td>53042.2</td>\n",
       "      <td>90258</td>\n",
       "      <td>63997.1</td>\n",
       "      <td>73704</td>\n",
       "      <td>81542.6</td>\n",
       "      <td>119929</td>\n",
       "      <td>68844.9</td>\n",
       "      <td>82077.1</td>\n",
       "      <td>70630.8</td>\n",
       "      <td>...</td>\n",
       "      <td>80874</td>\n",
       "      <td>55804</td>\n",
       "      <td>72366.6</td>\n",
       "      <td>107708</td>\n",
       "      <td>64420.5</td>\n",
       "      <td>69759.2</td>\n",
       "      <td>66432.9</td>\n",
       "      <td>61494.2</td>\n",
       "      <td>86518.1</td>\n",
       "      <td>133911</td>\n",
       "    </tr>\n",
       "  </tbody>\n",
       "</table>\n",
       "<p>5 rows × 33 columns</p>\n",
       "</div>"
      ],
      "text/plain": [
       "           City of London Barking & Dagenham   Barnet   Bexley    Brent  \\\n",
       "date                                                                      \n",
       "1995-01-01          91449            50460.2  93284.5  64958.1  71306.6   \n",
       "1995-02-01        82202.8            51085.8  93190.2  64787.9  72022.3   \n",
       "1995-03-01        79120.7              51269  92247.5  64367.5  72015.8   \n",
       "1995-04-01        77101.2            53133.5  90762.9  64277.7  72965.6   \n",
       "1995-05-01        84409.1            53042.2    90258  63997.1    73704   \n",
       "\n",
       "            Bromley  Camden  Croydon   Ealing  Enfield  ...   Merton   Newham  \\\n",
       "date                                                    ...                     \n",
       "1995-01-01  81671.5  120933  69158.2  79885.9  72514.7  ...  82070.6  53539.3   \n",
       "1995-02-01  81657.6  119509  68951.1  80897.1  73155.2  ...  79982.7  53153.9   \n",
       "1995-03-01  81449.3  120282  68712.4  81379.9  72190.4  ...  80661.7  53458.3   \n",
       "1995-04-01  81124.4  120098    68610  82188.9  71442.9  ...  79990.5  54479.8   \n",
       "1995-05-01  81542.6  119929  68844.9  82077.1  70630.8  ...    80874    55804   \n",
       "\n",
       "           Redbridge Richmond upon Thames Southwark   Sutton Tower Hamlets  \\\n",
       "date                                                                         \n",
       "1995-01-01   72189.6               109326   67885.2    71537       59865.2   \n",
       "1995-02-01   72141.6               111103   64799.1  70893.2       62318.5   \n",
       "1995-03-01   72501.4               107325   65763.3  70306.8       63938.7   \n",
       "1995-04-01   72228.6               106875   63073.6  69411.9       66233.2   \n",
       "1995-05-01   72366.6               107708   64420.5  69759.2       66432.9   \n",
       "\n",
       "           Waltham Forest Wandsworth Westminster  \n",
       "date                                              \n",
       "1995-01-01        61319.4      88559      133025  \n",
       "1995-02-01        60252.1      88641      131468  \n",
       "1995-03-01        60871.1    87124.8      132260  \n",
       "1995-04-01        60971.4      87026      133370  \n",
       "1995-05-01        61494.2    86518.1      133911  \n",
       "\n",
       "[5 rows x 33 columns]"
      ]
     },
     "execution_count": 6,
     "metadata": {},
     "output_type": "execute_result"
    }
   ],
   "source": [
    "properties = properties.drop(['Unnamed: 34', 'Unnamed: 37', 'Unnamed: 47'], axis='columns')\n",
    "properties = properties.drop(['Inner London', 'Outer London', 'NORTH EAST',\n",
    "       'NORTH WEST', 'YORKS & THE HUMBER', 'EAST MIDLANDS', 'WEST MIDLANDS',\n",
    "       'EAST OF ENGLAND', 'LONDON', 'SOUTH EAST', 'SOUTH WEST', 'England'], axis='columns')\n",
    "print(properties.columns)\n",
    "properties = properties.set_index('Unnamed: 0')\n",
    "properties.index.name = 'date'\n",
    "properties = properties.drop(properties.index[0])\n",
    "properties.head()"
   ]
  },
  {
   "cell_type": "markdown",
   "metadata": {
    "colab_type": "text",
    "id": "o1uLbJAsoIjK"
   },
   "source": [
    "**2.3. Cleaning the data (part 2)**\n",
    "\n",
    "You might we have to **rename** a couple columns. How do you do this? The clue's pretty bold..."
   ]
  },
  {
   "cell_type": "code",
   "execution_count": 7,
   "metadata": {
    "colab": {},
    "colab_type": "code",
    "id": "GKkmn1AnoVZS"
   },
   "outputs": [
    {
     "name": "stdout",
     "output_type": "stream",
     "text": [
      "<class 'pandas.core.frame.DataFrame'>\n",
      "DatetimeIndex: 305 entries, 1995-01-01 to 2020-05-01\n",
      "Data columns (total 33 columns):\n",
      " #   Column                Non-Null Count  Dtype \n",
      "---  ------                --------------  ----- \n",
      " 0   City of London        305 non-null    object\n",
      " 1   Barking & Dagenham    305 non-null    object\n",
      " 2   Barnet                305 non-null    object\n",
      " 3   Bexley                305 non-null    object\n",
      " 4   Brent                 305 non-null    object\n",
      " 5   Bromley               305 non-null    object\n",
      " 6   Camden                305 non-null    object\n",
      " 7   Croydon               305 non-null    object\n",
      " 8   Ealing                305 non-null    object\n",
      " 9   Enfield               305 non-null    object\n",
      " 10  Greenwich             305 non-null    object\n",
      " 11  Hackney               305 non-null    object\n",
      " 12  Hammersmith & Fulham  305 non-null    object\n",
      " 13  Haringey              305 non-null    object\n",
      " 14  Harrow                305 non-null    object\n",
      " 15  Havering              305 non-null    object\n",
      " 16  Hillingdon            305 non-null    object\n",
      " 17  Hounslow              305 non-null    object\n",
      " 18  Islington             305 non-null    object\n",
      " 19  Kensington & Chelsea  305 non-null    object\n",
      " 20  Kingston upon Thames  305 non-null    object\n",
      " 21  Lambeth               305 non-null    object\n",
      " 22  Lewisham              305 non-null    object\n",
      " 23  Merton                305 non-null    object\n",
      " 24  Newham                305 non-null    object\n",
      " 25  Redbridge             305 non-null    object\n",
      " 26  Richmond upon Thames  305 non-null    object\n",
      " 27  Southwark             305 non-null    object\n",
      " 28  Sutton                305 non-null    object\n",
      " 29  Tower Hamlets         305 non-null    object\n",
      " 30  Waltham Forest        305 non-null    object\n",
      " 31  Wandsworth            305 non-null    object\n",
      " 32  Westminster           305 non-null    object\n",
      "dtypes: object(33)\n",
      "memory usage: 81.0+ KB\n"
     ]
    }
   ],
   "source": [
    "properties.info()"
   ]
  },
  {
   "cell_type": "markdown",
   "metadata": {
    "colab_type": "text",
    "id": "jy8BzXHmoWEw"
   },
   "source": [
    "**2.4.Transforming the data**\n",
    "\n",
    "Remember what Wes McKinney said about tidy data? \n",
    "\n",
    "You might need to **melt** your DataFrame here. "
   ]
  },
  {
   "cell_type": "code",
   "execution_count": null,
   "metadata": {
    "colab": {},
    "colab_type": "code",
    "id": "S2wM0qLuo2Zt"
   },
   "outputs": [],
   "source": []
  },
  {
   "cell_type": "markdown",
   "metadata": {
    "colab_type": "text",
    "id": "7kIsgAo7o3mf"
   },
   "source": [
    "Remember to make sure your column data types are all correct. Average prices, for example, should be floating point numbers... "
   ]
  },
  {
   "cell_type": "code",
   "execution_count": 8,
   "metadata": {
    "colab": {},
    "colab_type": "code",
    "id": "ZcR4IHbcpOaq"
   },
   "outputs": [
    {
     "name": "stdout",
     "output_type": "stream",
     "text": [
      "<class 'pandas.core.frame.DataFrame'>\n",
      "DatetimeIndex: 305 entries, 1995-01-01 to 2020-05-01\n",
      "Data columns (total 33 columns):\n",
      " #   Column                Non-Null Count  Dtype  \n",
      "---  ------                --------------  -----  \n",
      " 0   City of London        305 non-null    float64\n",
      " 1   Barking & Dagenham    305 non-null    float64\n",
      " 2   Barnet                305 non-null    float64\n",
      " 3   Bexley                305 non-null    float64\n",
      " 4   Brent                 305 non-null    float64\n",
      " 5   Bromley               305 non-null    float64\n",
      " 6   Camden                305 non-null    float64\n",
      " 7   Croydon               305 non-null    float64\n",
      " 8   Ealing                305 non-null    float64\n",
      " 9   Enfield               305 non-null    float64\n",
      " 10  Greenwich             305 non-null    float64\n",
      " 11  Hackney               305 non-null    float64\n",
      " 12  Hammersmith & Fulham  305 non-null    float64\n",
      " 13  Haringey              305 non-null    float64\n",
      " 14  Harrow                305 non-null    float64\n",
      " 15  Havering              305 non-null    float64\n",
      " 16  Hillingdon            305 non-null    float64\n",
      " 17  Hounslow              305 non-null    float64\n",
      " 18  Islington             305 non-null    float64\n",
      " 19  Kensington & Chelsea  305 non-null    float64\n",
      " 20  Kingston upon Thames  305 non-null    float64\n",
      " 21  Lambeth               305 non-null    float64\n",
      " 22  Lewisham              305 non-null    float64\n",
      " 23  Merton                305 non-null    float64\n",
      " 24  Newham                305 non-null    float64\n",
      " 25  Redbridge             305 non-null    float64\n",
      " 26  Richmond upon Thames  305 non-null    float64\n",
      " 27  Southwark             305 non-null    float64\n",
      " 28  Sutton                305 non-null    float64\n",
      " 29  Tower Hamlets         305 non-null    float64\n",
      " 30  Waltham Forest        305 non-null    float64\n",
      " 31  Wandsworth            305 non-null    float64\n",
      " 32  Westminster           305 non-null    float64\n",
      "dtypes: float64(33)\n",
      "memory usage: 81.0 KB\n"
     ]
    }
   ],
   "source": [
    "properties = properties.astype('float')\n",
    "properties.info()"
   ]
  },
  {
   "cell_type": "markdown",
   "metadata": {
    "colab_type": "text",
    "id": "knLUXHLypOtw"
   },
   "source": [
    "**2.5. Cleaning the data (part 3)**\n",
    "\n",
    "Do we have an equal number of observations in the ID, Average Price, Month, and London Borough columns? Remember that there are only 32 London Boroughs. How many entries do you have in that column? \n",
    "\n",
    "Check out the contents of the London Borough column, and if you find null values, get rid of them however you see fit. "
   ]
  },
  {
   "cell_type": "code",
   "execution_count": 9,
   "metadata": {
    "colab": {},
    "colab_type": "code",
    "id": "BnvTW5a3p0fC"
   },
   "outputs": [
    {
     "name": "stdout",
     "output_type": "stream",
     "text": [
      "date\n",
      "1995-01-01     91448.98487\n",
      "1995-02-01     82202.77314\n",
      "1995-03-01     79120.70256\n",
      "1995-04-01     77101.20804\n",
      "1995-05-01     84409.14932\n",
      "                  ...     \n",
      "2020-01-01    747610.87490\n",
      "2020-02-01    777640.00720\n",
      "2020-03-01    844988.50660\n",
      "2020-04-01    867840.62900\n",
      "2020-05-01    899831.20600\n",
      "Name: City of London, Length: 305, dtype: float64\n"
     ]
    }
   ],
   "source": [
    "print(properties['City of London'])"
   ]
  },
  {
   "cell_type": "markdown",
   "metadata": {
    "colab_type": "text",
    "id": "PGEx6mJsp6dG"
   },
   "source": [
    "**2.6. Visualizing the data**\n",
    "\n",
    "To visualize the data, why not subset on a particular London Borough? Maybe do a line plot of Month against Average Price?"
   ]
  },
  {
   "cell_type": "code",
   "execution_count": 10,
   "metadata": {
    "colab": {},
    "colab_type": "code",
    "id": "nAg5pT9cqHAR"
   },
   "outputs": [
    {
     "data": {
      "image/png": "[encoded data removed]",
      "text/plain": [
       "<Figure size 432x288 with 1 Axes>"
      ]
     },
     "metadata": {
      "needs_background": "light"
     },
     "output_type": "display_data"
    }
   ],
   "source": [
    "%matplotlib inline\n",
    "city_of_london_price = properties['City of London']\n",
    "plt.plot(city_of_london_price)\n",
    "plt.title('City of London Housing Price')\n",
    "plt.ylabel('Price GBP')\n",
    "plt.show()"
   ]
  },
  {
   "cell_type": "markdown",
   "metadata": {
    "colab_type": "text",
    "id": "aWTPqSJeqHnC"
   },
   "source": [
    "To limit the number of data points you have, you might want to extract the year from every month value your *Month* column. \n",
    "\n",
    "To this end, you *could* apply a ***lambda function***. Your logic could work as follows:\n",
    "1. look through the `Month` column\n",
    "2. extract the year from each individual value in that column \n",
    "3. store that corresponding year as separate column. \n",
    "\n",
    "Whether you go ahead with this is up to you. Just so long as you answer our initial brief: which boroughs of London have seen the greatest house price increase, on average, over the past two decades? "
   ]
  },
  {
   "cell_type": "code",
   "execution_count": 11,
   "metadata": {
    "colab": {},
    "colab_type": "code",
    "id": "e0DF92cyqnu8"
   },
   "outputs": [
    {
     "name": "stdout",
     "output_type": "stream",
     "text": [
      "            City of London  Barking & Dagenham         Barnet        Bexley  \\\n",
      "date                                                                          \n",
      "1995-12-31    99085.008156        51817.969390   91792.537433  64291.532845   \n",
      "1996-12-31   105651.057557        51718.192690   94000.445448  65490.417234   \n",
      "1997-12-31   117113.442375        55974.262309  106883.185546  70789.406603   \n",
      "1998-12-31   148031.894542        60285.821083  122359.468033  80632.020822   \n",
      "1999-12-31   171300.061875        65320.934441  136004.512067  86777.715903   \n",
      "\n",
      "                    Brent        Bromley         Camden       Croydon  \\\n",
      "date                                                                    \n",
      "1995-12-31   73029.841840   81967.316732  120367.431783  68923.340845   \n",
      "1996-12-31   75235.918367   83547.483632  133810.487933  69713.920086   \n",
      "1997-12-31   86749.070663   94224.688035  150142.901208  77674.269967   \n",
      "1998-12-31  100692.590417  108286.520467  170688.973933  88143.228830   \n",
      "1999-12-31  112157.469808  120874.179567  191090.697392  97173.322854   \n",
      "\n",
      "                   Ealing        Enfield  ...         Merton        Newham  \\\n",
      "date                                      ...                                \n",
      "1995-12-31   81218.674792   71984.234888  ...   80500.752648  54574.226405   \n",
      "1996-12-31   83389.914491   74062.012957  ...   83999.034578  55747.012583   \n",
      "1997-12-31   97805.824543   83609.439219  ...   95699.209073  60971.380317   \n",
      "1998-12-31  111343.154650   93030.224322  ...  108049.855117  67671.270763   \n",
      "1999-12-31  126278.342342  101986.993642  ...  121901.372575  74525.568363   \n",
      "\n",
      "                Redbridge  Richmond upon Thames      Southwark         Sutton  \\\n",
      "date                                                                            \n",
      "1995-12-31   72580.490579         109892.274008   64260.053745   70291.304638   \n",
      "1996-12-31   75358.658939         117307.882658   70117.306851   71651.920030   \n",
      "1997-12-31   83371.972795         136656.271017   79725.850140   81094.119743   \n",
      "1998-12-31   94514.395822         162956.066025   91405.187779   92087.045921   \n",
      "1999-12-31  102940.450633         181772.319642  110267.545583  100869.813722   \n",
      "\n",
      "            Tower Hamlets  Waltham Forest     Wandsworth    Westminster  \n",
      "date                                                                     \n",
      "1995-12-31   63652.446010    61279.980463   88829.083075  133689.233033  \n",
      "1996-12-31   70094.724437    62177.237897   92270.037989  139188.760342  \n",
      "1997-12-31   85759.562757    68228.785835  108108.356495  165447.591208  \n",
      "1998-12-31   96505.166407    75557.474132  125406.807233  190531.949942  \n",
      "1999-12-31  113035.289367    83821.587936  145339.809767  214042.702508  \n",
      "\n",
      "[5 rows x 33 columns]\n",
      "            City of London  Barking & Dagenham         Barnet         Bexley  \\\n",
      "date                                                                           \n",
      "2016-12-31   818315.551142       273919.636042  525939.577300  321563.508775   \n",
      "2017-12-31   849790.096133       287734.717358  538281.017008  335694.468958   \n",
      "2018-12-31   784808.908635       295196.673612  533266.534055  342603.605654   \n",
      "2019-12-31   796181.248442       298620.203492  519611.265983  336858.000467   \n",
      "2020-12-31   827582.244740       298180.076120  524893.282220  339597.473120   \n",
      "\n",
      "                    Brent        Bromley         Camden        Croydon  \\\n",
      "date                                                                     \n",
      "2016-12-31  489469.418367  428008.119983  807118.961958  355846.809333   \n",
      "2017-12-31  487703.754375  441218.585283  839347.476208  372554.484167   \n",
      "2018-12-31  492845.371253  443409.985635  842410.409361  370298.543320   \n",
      "2019-12-31  474513.082183  436459.813675  841744.354550  365441.069775   \n",
      "2020-12-31  462546.292860  433875.931200  848740.892380  373996.702320   \n",
      "\n",
      "                   Ealing        Enfield  ...         Merton         Newham  \\\n",
      "date                                      ...                                 \n",
      "2016-12-31  476440.737308  385489.805458  ...  500267.424850  347956.886925   \n",
      "2017-12-31  484592.165825  395929.176617  ...  512185.807217  362131.544175   \n",
      "2018-12-31  480050.544561  396631.717802  ...  512293.894570  359022.512777   \n",
      "2019-12-31  472913.245508  392835.437917  ...  506193.058817  363957.159467   \n",
      "2020-12-31  480674.544740  396857.170600  ...  510917.929200  371412.007540   \n",
      "\n",
      "                Redbridge  Richmond upon Thames      Southwark         Sutton  \\\n",
      "date                                                                            \n",
      "2016-12-31  391837.313350         653760.818533  510331.261983  365303.130833   \n",
      "2017-12-31  410300.158625         665284.674308  515883.332175  376924.583592   \n",
      "2018-12-31  422591.065915         652665.426320  504235.374945  379262.580582   \n",
      "2019-12-31  412566.179825         650027.532992  499247.348242  371874.961808   \n",
      "2020-12-31  426188.535160         665657.936280  507720.166760  375259.186340   \n",
      "\n",
      "            Tower Hamlets  Waltham Forest     Wandsworth   Westminster  \n",
      "date                                                                    \n",
      "2016-12-31  457129.597725   413149.270708  608740.907083  9.955434e+05  \n",
      "2017-12-31  459279.060158   436116.502500  617921.475300  1.064772e+06  \n",
      "2018-12-31  446500.553785   440859.411128  596649.139044  1.020025e+06  \n",
      "2019-12-31  438460.953933   430501.945317  588613.051833  9.553525e+05  \n",
      "2020-12-31  479647.079400   440357.045700  610509.247020  1.002810e+06  \n",
      "\n",
      "[5 rows x 33 columns]\n"
     ]
    }
   ],
   "source": [
    "properties = properties.resample('A').agg('mean')\n",
    "print(properties.head())\n",
    "print(properties.tail())"
   ]
  },
  {
   "cell_type": "markdown",
   "metadata": {
    "colab_type": "text",
    "id": "2knuTxAEqoJ4"
   },
   "source": [
    "**3. Modeling**\n",
    "\n",
    "Consider creating a function that will calculate a ratio of house prices, comparing the price of a house in 2018 to the price in 1998.\n",
    "\n",
    "Consider calling this function create_price_ratio.\n",
    "\n",
    "You'd want this function to:\n",
    "1. Take a filter of dfg, specifically where this filter constrains the London_Borough, as an argument. For example, one admissible argument should be: dfg[dfg['London_Borough']=='Camden'].\n",
    "2. Get the Average Price for that Borough, for the years 1998 and 2018.\n",
    "4. Calculate the ratio of the Average Price for 1998 divided by the Average Price for 2018.\n",
    "5. Return that ratio.\n",
    "\n",
    "Once you've written this function, you ultimately want to use it to iterate through all the unique London_Boroughs and work out the ratio capturing the difference of house prices between 1998 and 2018.\n",
    "\n",
    "Bear in mind: you don't have to write a function like this if you don't want to. If you can solve the brief otherwise, then great! \n",
    "\n",
    "***Hint***: This section should test the skills you acquired in:\n",
    "- Python Data Science Toolbox - Part One, all modules"
   ]
  },
  {
   "cell_type": "code",
   "execution_count": 68,
   "metadata": {
    "colab": {},
    "colab_type": "code",
    "id": "cKTyr437UgDa"
   },
   "outputs": [
    {
     "name": "stdout",
     "output_type": "stream",
     "text": [
      "Average % price increase: 371\n",
      "Median % price increase: 374\n",
      "0.25    324.897705\n",
      "0.75    408.246507\n",
      "Name: 2018-12-31 00:00:00, dtype: float64\n",
      "Hackney                 519.828556\n",
      "Waltham Forest          483.475581\n",
      "Southwark               451.648530\n",
      "Lewisham                444.922104\n",
      "Westminster             435.356539\n",
      "Newham                  430.539044\n",
      "City of London          430.162038\n",
      "Haringey                413.462496\n",
      "Kensington & Chelsea    408.246507\n",
      "Lambeth                 395.775116\n",
      "Camden                  393.535341\n",
      "Barking & Dagenham      389.661861\n",
      "Brent                   389.455450\n",
      "Islington               384.404801\n",
      "Greenwich               376.303635\n",
      "Wandsworth              375.770935\n",
      "Merton                  374.127331\n",
      "Tower Hamlets           362.670104\n",
      "Redbridge               347.118201\n",
      "Barnet                  335.819592\n",
      "Havering                332.523037\n",
      "Ealing                  331.145090\n",
      "Kingston upon Thames    327.054952\n",
      "Enfield                 326.347158\n",
      "Bexley                  324.897705\n",
      "Croydon                 320.110028\n",
      "Hillingdon              320.027308\n",
      "Hammersmith & Fulham    313.779810\n",
      "Sutton                  311.852261\n",
      "Bromley                 309.478469\n",
      "Harrow                  305.919643\n",
      "Richmond upon Thames    300.516190\n",
      "Hounslow                297.640911\n",
      "Name: 2018-12-31 00:00:00, dtype: float64\n"
     ]
    },
    {
     "data": {
      "text/plain": [
       "<matplotlib.axes._subplots.AxesSubplot at 0x7f0cf229abb0>"
      ]
     },
     "execution_count": 68,
     "metadata": {},
     "output_type": "execute_result"
    },
    {
     "data": {
      "image/png": "[encoded data removed]",
      "text/plain": [
       "<Figure size 432x288 with 1 Axes>"
      ]
     },
     "metadata": {
      "needs_background": "light"
     },
     "output_type": "display_data"
    }
   ],
   "source": [
    "properties_change = (properties.pct_change(20) *100).dropna()\n",
    "\n",
    "properties_2018_price_change = (properties_change.loc['2018']).squeeze().sort_values(ascending = False)\n",
    "print('Average % price increase: ' + str(int(properties_2018_price_change.mean())))\n",
    "print('Median % price increase: ' + str(int(properties_2018_price_change.median())))\n",
    "print(properties_2018_price_change.quantile([.25, .75]))\n",
    "\n",
    "print(properties_2018_price_change)\n",
    "properties_2018_price_change.plot(kind= 'bar', legend = False, title='2018-1998 housing price increase by London Districts (% change)')\n",
    "\n"
   ]
  },
  {
   "cell_type": "markdown",
   "metadata": {
    "colab_type": "text",
    "id": "NzYUI7FxJpgv"
   },
   "source": [
    "# 4. Conclusion\n",
    "What can you conclude? Type out your conclusion below. \n",
    "\n",
    "Look back at your notebook. Think about how you might summarize what you have done, and prepare a quick presentation on it to your mentor at your next meeting. \n",
    "\n",
    "We hope you enjoyed this practical project. It should have consolidated your data hygiene and pandas skills by looking at a real-world problem involving just the kind of dataset you might encounter as a budding data scientist. Congratulations, and looking forward to seeing you at the next step in the course! "
   ]
  },
  {
   "cell_type": "code",
   "execution_count": null,
   "metadata": {},
   "outputs": [],
   "source": []
  },
  {
   "cell_type": "code",
   "execution_count": null,
   "metadata": {},
   "outputs": [],
   "source": []
  }
 ],
 "metadata": {
  "colab": {
   "collapsed_sections": [],
   "name": "Springboard Data Science Career Track Unit 4 Challenge - Tier 3 Complete .ipynb",
   "provenance": []
  },
  "kernelspec": {
   "display_name": "Python 3",
   "language": "python",
   "name": "python3"
  },
  "language_info": {
   "codemirror_mode": {
    "name": "ipython",
    "version": 3
   },
   "file_extension": ".py",
   "mimetype": "text/x-python",
   "name": "python",
   "nbconvert_exporter": "python",
   "pygments_lexer": "ipython3",
   "version": "3.8.3"
  }
 },
 "nbformat": 4,
 "nbformat_minor": 1
}
